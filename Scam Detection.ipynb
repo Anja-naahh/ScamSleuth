{
 "cells": [
  {
   "cell_type": "code",
   "execution_count": 1,
   "id": "8a5991bf-bf39-4405-849e-730ef50350cd",
   "metadata": {},
   "outputs": [],
   "source": [
    "import sklearn\n",
    "import pandas as pd\n",
    "import numpy as np\n",
    "import matplotlib.pyplot as plt\n",
    "import seaborn as sns\n",
    "from sklearn.pipeline import Pipeline\n",
    "from sklearn.feature_extraction.text import TfidfVectorizer\n",
    "from sklearn.svm import SVC\n",
    "from sklearn.model_selection import train_test_split\n",
    "from sklearn.preprocessing import LabelEncoder\n",
    "import joblib\n",
    "import re\n",
    "from rapidfuzz import fuzz\n",
    "import pickle\n",
    "from sklearn.metrics import accuracy_score\n",
    "from sklearn.metrics import confusion_matrix\n",
    "from sklearn.svm import LinearSVC\n",
    "from sklearn.feature_extraction.text import CountVectorizer"
   ]
  },
  {
   "cell_type": "code",
   "execution_count": 2,
   "id": "11672b39-fa6b-4a0a-adca-1eebfba06798",
   "metadata": {},
   "outputs": [
    {
     "name": "stdout",
     "output_type": "stream",
     "text": [
      "  label                                            message\n",
      "0   ham  Go until jurong point, crazy.. Available only ...\n",
      "1   ham                      Ok lar... Joking wif u oni...\n",
      "2  spam  Free entry in 2 a wkly comp to win FA Cup fina...\n",
      "3   ham  U dun say so early hor... U c already then say...\n",
      "4   ham  Nah I don't think he goes to usf, he lives aro...\n"
     ]
    }
   ],
   "source": [
    "# Loading the csv file (open source)\n",
    "url = \"https://raw.githubusercontent.com/justmarkham/pycon-2016-tutorial/master/data/sms.tsv\"\n",
    "df = pd.read_csv(url, sep='\\t', header=None, names=['label', 'message'])\n",
    "\n",
    "print(df.head())"
   ]
  },
  {
   "cell_type": "code",
   "execution_count": 3,
   "id": "afb607cd-afe9-461b-b45f-65b03eb0bce2",
   "metadata": {},
   "outputs": [
    {
     "name": "stdout",
     "output_type": "stream",
     "text": [
      "0\n"
     ]
    }
   ],
   "source": [
    "print(df['message'].isnull().sum())\n",
    "# no need to replace anything with anything since there are no missing values"
   ]
  },
  {
   "cell_type": "code",
   "execution_count": 4,
   "id": "fd4f8d30-1675-485d-8c01-84b11859f43c",
   "metadata": {},
   "outputs": [],
   "source": [
    "# preprocessing the data either ways to make it easier\n",
    "def preprocessing(text):\n",
    "    if isinstance(text, str):\n",
    "        return text.strip().lower()\n",
    "    return \"\" \n"
   ]
  },
  {
   "cell_type": "code",
   "execution_count": 5,
   "id": "01f4ad62-3ae1-4198-8554-c6dccc4d4f1d",
   "metadata": {},
   "outputs": [
    {
     "name": "stdout",
     "output_type": "stream",
     "text": [
      "     label                                            message\n",
      "5630   ham  Mobikwik cashback of ₹30 has been credited to ...\n",
      "5631   ham  Blinkit delivery partner is picking up your it...\n",
      "5632   ham  Google Pay: Your transaction of ₹599 to Myntra...\n",
      "5633   ham  Airtel: Your plan is valid until next month. D...\n",
      "5634   ham  Your SBI debit card has been delivered. Please...\n"
     ]
    },
    {
     "data": {
      "image/png": "[encoded data removed]",
      "text/plain": [
       "<Figure size 600x400 with 1 Axes>"
      ]
     },
     "metadata": {},
     "output_type": "display_data"
    }
   ],
   "source": [
    "# Since the dataset was created in 2016 , it is no longer suitable for current spam message training hence we add additional spam and ham so tht the \n",
    "# model can be trained with updated spam messages (until we find a better dataset)\n",
    "synthetic_spam = [\n",
    "    \"Hurry up! Spin the wheel and win amazing prizes today!\",\n",
    "    \"Don't miss out, click this link below to claim your exclusive offer.\",\n",
    "    \"Congratulations! Claim your prize now by visiting our website.\",\n",
    "    \"Spin the wheel for a chance to win big rewards instantly.\",\n",
    "    \"Click this link below to activate your free gift card.\",\n",
    "    \"Limited time offer: claim your prize before it expires!\",\n",
    "    \"Your Paytm KYC is pending. Visit paytm-help.xyz to update immediately or your wallet will be blocked.\",\n",
    "    \"Dear SBI customer, your YONO access is suspended. Reactivate now at sbi-verify.info.\",\n",
    "    \"Your Flipkart order has been held. Verify payment details at flipkart-secure.in.\",\n",
    "    \"Claim your ICICI refund now at icici-alerts.co before it expires.\",\n",
    "    \"Congratulations! You’ve won ₹10,000 Amazon Pay balance. Click amazon-india-reward.co to claim.\",\n",
    "    \"Your HDFC NetBanking is temporarily disabled. Restore access at hdfc-login.help.\",\n",
    "    \"Dear customer, you've received cashback from PhonePe. Claim it here: phonepe-promos.co.\",\n",
    "    \"URGENT: Complete your KYC at google-pay.in-gov.org or services will be paused.\",\n",
    "    \"Netflix account will be suspended. Update billing info at netflix-india-check.com.\",\n",
    "    \"Verify your IRCTC account to avoid suspension. Visit irctc-securemail.in now.\",\n",
    "    \"Zomato order refund of ₹145 is pending. Confirm your bank details here: zomato-service.co.\",\n",
    "    \"Your LIC policy is expiring. Renew now at lic-india-secure.org.\",\n",
    "    \"New cashback reward from Swiggy! Click swiggyoffers.today to activate.\",\n",
    "    \"You've won a Flipkart voucher worth ₹5,000! Visit luckyflipkart.win to claim.\",\n",
    "    \"Exclusive Myntra promo! Get ₹1,000 free. Redeem at myntra-gift.xyz now.\",\n",
    "    \"Your Uber account has a pending verification. Go to uberindia-check.net.\",\n",
    "    \"EPFO alert: Your UAN is deactivated. Update now at epfo-portal.live.\",\n",
    "    \"BigBasket gift card awaits! Collect it now at bigbasket-prizes.co.\",\n",
    "    \"Get your free Amazon Fire Stick now. Just pay ₹2 shipping at amznindia.click.\",\n",
    "    \"Your PAN is under review. Verify at incometax-kyc.co.in to avoid penalties.\",\n",
    "    \"Disney+ Hotstar subscription renewal failed. Update payment at hotstar-secure.org.\",\n",
    "    \"Airtel cashback alert! Grab ₹100 now at airtel-verification.in.\",\n",
    "    \"Mobikwik KYC expired! Update immediately at mobikwik-verify.net.\",\n",
    "    \"Your Ola ride history is locked. Unlock it now at ola-securitycheck.com.\",\n",
    "    \"Congratulations! You won ₹25,000 in the Dream11 IPL draw. Visit dream11-rewards.win to claim.\",\n",
    "    \"Claim your bonus on WinZO now! Tap winzo-bonus.live before midnight.\"\n",
    "]\n",
    "\n",
    "synthetic_ham = [\n",
    "    \"I was thinking we could spin the wheel at the party for fun.\",\n",
    "    \"Please click this link below to view the meeting agenda.\",\n",
    "    \"Remember to claim your prize for participating in the office raffle.\",\n",
    "    \"Let's schedule a meeting and discuss the project details.\",\n",
    "    \"Can you spin the wheel for the game tonight?\",\n",
    "    \"Here is the link below that contains the report you asked for.\",\n",
    "    \"Your Paytm wallet balance is low. Please add funds to continue using services.\",\n",
    "    \"ICICI sent a transaction alert for your recent payment. Kindly check your inbox.\",\n",
    "    \"Flipkart delivery scheduled for today. Track your order via the Flipkart app.\",\n",
    "    \"Reminder: Your LIC premium is due next week. Please pay via official website.\",\n",
    "    \"Your Swiggy order is on the way. Estimated delivery in 30 minutes.\",\n",
    "    \"Your Ola driver is arriving soon. Please be at the pickup point.\",\n",
    "    \"Netflix: Enjoy your favorite shows. Your subscription is active till June 30.\",\n",
    "    \"Zomato feedback request: How was your recent order?\",\n",
    "    \"Amazon: Your refund of ₹499 has been initiated. No action required.\",\n",
    "    \"PhonePe: Payment of ₹250 to Electric Co. was successful.\",\n",
    "    \"Uber: You’ve earned a ₹100 ride credit valid for this week.\",\n",
    "    \"Jio recharge of ₹239 is successful. Enjoy unlimited calls and 1.5GB/day.\",\n",
    "    \"Ajio return request has been received. Pickup scheduled for tomorrow.\",\n",
    "    \"HDFC: Your credit card statement is ready to view in NetBanking.\",\n",
    "    \"Hotstar: New episode of your favorite series is now streaming!\",\n",
    "    \"SBI: Your OTP for internet banking login is 457321. Do not share it.\",\n",
    "    \"IRCTC: Train 12345 is expected to arrive at 6:45 PM. Check platform info in app.\",\n",
    "    \"Income Tax India: Reminder to file your ITR before July 31.\",\n",
    "    \"BigBasket: Your order #BB1234567 has been packed and ready for dispatch.\",\n",
    "    \"BookMyShow: Your tickets for 'Avengers' have been emailed to you.\",\n",
    "    \"Mobikwik cashback of ₹30 has been credited to your wallet.\",\n",
    "    \"Blinkit delivery partner is picking up your items. Track live in app.\",\n",
    "    \"Google Pay: Your transaction of ₹599 to Myntra was successful.\",\n",
    "    \"Airtel: Your plan is valid until next month. Data left: 3.2 GB.\",\n",
    "    \"Your SBI debit card has been delivered. Please activate via YONO app.\"\n",
    "]\n",
    "\n",
    "df_synthetic_spam = pd.DataFrame({\n",
    "    'message': synthetic_spam,\n",
    "    'label': ['spam'] * len(synthetic_spam)\n",
    "})\n",
    "\n",
    "df_synthetic_ham = pd.DataFrame({\n",
    "    'message': synthetic_ham,\n",
    "    'label': ['ham'] * len(synthetic_ham)\n",
    "})\n",
    "\n",
    "# Append to your original dataset\n",
    "df_augmented = pd.concat([df, df_synthetic_spam, df_synthetic_ham], ignore_index=True)\n",
    "print(df_augmented.tail())\n",
    "# successfully augmented\n"
   ]
  },
  {
   "cell_type": "code",
   "execution_count": 6,
   "id": "2efef1e0-e6ae-4726-8667-5882fadf4e33",
   "metadata": {},
   "outputs": [
    {
     "data": {
      "text/html": [
       "<div>\n",
       "<style scoped>\n",
       "    .dataframe tbody tr th:only-of-type {\n",
       "        vertical-align: middle;\n",
       "    }\n",
       "\n",
       "    .dataframe tbody tr th {\n",
       "        vertical-align: top;\n",
       "    }\n",
       "\n",
       "    .dataframe thead th {\n",
       "        text-align: right;\n",
       "    }\n",
       "</style>\n",
       "<table border=\"1\" class=\"dataframe\">\n",
       "  <thead>\n",
       "    <tr style=\"text-align: right;\">\n",
       "      <th></th>\n",
       "      <th>label</th>\n",
       "      <th>message</th>\n",
       "    </tr>\n",
       "  </thead>\n",
       "  <tbody>\n",
       "    <tr>\n",
       "      <th>0</th>\n",
       "      <td>ham</td>\n",
       "      <td>go until jurong point, crazy.. available only ...</td>\n",
       "    </tr>\n",
       "    <tr>\n",
       "      <th>1</th>\n",
       "      <td>ham</td>\n",
       "      <td>ok lar... joking wif u oni...</td>\n",
       "    </tr>\n",
       "    <tr>\n",
       "      <th>2</th>\n",
       "      <td>spam</td>\n",
       "      <td>free entry in 2 a wkly comp to win fa cup fina...</td>\n",
       "    </tr>\n",
       "    <tr>\n",
       "      <th>3</th>\n",
       "      <td>ham</td>\n",
       "      <td>u dun say so early hor... u c already then say...</td>\n",
       "    </tr>\n",
       "    <tr>\n",
       "      <th>4</th>\n",
       "      <td>ham</td>\n",
       "      <td>nah i don't think he goes to usf, he lives aro...</td>\n",
       "    </tr>\n",
       "  </tbody>\n",
       "</table>\n",
       "</div>"
      ],
      "text/plain": [
       "  label                                            message\n",
       "0   ham  go until jurong point, crazy.. available only ...\n",
       "1   ham                      ok lar... joking wif u oni...\n",
       "2  spam  free entry in 2 a wkly comp to win fa cup fina...\n",
       "3   ham  u dun say so early hor... u c already then say...\n",
       "4   ham  nah i don't think he goes to usf, he lives aro..."
      ]
     },
     "execution_count": 6,
     "metadata": {},
     "output_type": "execute_result"
    }
   ],
   "source": [
    "# applying the preprocessing after addition of synthetic messages\n",
    "df['message'] = df['message'].apply(preprocessing)\n",
    "df.head()"
   ]
  },
  {
   "cell_type": "code",
   "execution_count": 9,
   "id": "76af82da-d910-4ee9-856f-c42221c12525",
   "metadata": {},
   "outputs": [
    {
     "data": {
      "text/plain": [
       "['svm_message_pipeline.pkl']"
      ]
     },
     "execution_count": 9,
     "metadata": {},
     "output_type": "execute_result"
    }
   ],
   "source": [
    "l = LabelEncoder()\n",
    "y = l.fit_transform(df_augmented['label'])  # 0 = ham, 1 = spam\n",
    "X = df_augmented['message']\n",
    "\n",
    "# Save label encoder for Streamlit app\n",
    "joblib.dump(l, \"msg_label_encoder.pkl\")\n",
    "\n",
    "# Split the data\n",
    "X_train, X_test, y_train, y_test = train_test_split(X, y, test_size=0.3, random_state=42)\n",
    "\n",
    "# Define and train pipeline\n",
    "pipeline = Pipeline([\n",
    "    ('tfidf', TfidfVectorizer(ngram_range=(1,3), stop_words='english')),\n",
    "    ('clf', SVC(kernel='linear', probability=True))\n",
    "])\n",
    "\n",
    "pipeline.fit(X_train, y_train)\n",
    "y_pred = pipeline.predict(X_test)\n",
    "# Save the trained pipeline\n",
    "joblib.dump(pipeline, \"svm_message_pipeline.pkl\")"
   ]
  },
  {
   "cell_type": "code",
   "execution_count": 10,
   "id": "986974f2-c99b-4767-b81c-e897f0a63cba",
   "metadata": {},
   "outputs": [
    {
     "data": {
      "text/plain": [
       "0.9816676522767593"
      ]
     },
     "execution_count": 10,
     "metadata": {},
     "output_type": "execute_result"
    }
   ],
   "source": [
    "\n",
    "accuracy_score(y_test,y_pred)"
   ]
  },
  {
   "cell_type": "code",
   "execution_count": 11,
   "id": "6215f409-645d-4f0a-9517-ba7709960686",
   "metadata": {},
   "outputs": [
    {
     "data": {
      "text/plain": [
       "array([[1441,   16],\n",
       "       [  15,  219]])"
      ]
     },
     "execution_count": 11,
     "metadata": {},
     "output_type": "execute_result"
    }
   ],
   "source": [
    "\n",
    "cm = confusion_matrix(y_test, y_pred)\n",
    "cm"
   ]
  },
  {
   "cell_type": "code",
   "execution_count": 12,
   "id": "a2ed651d-a034-420b-9149-a7ae466ef358",
   "metadata": {},
   "outputs": [
    {
     "data": {
      "image/png": "[encoded data removed]",
      "text/plain": [
       "<Figure size 800x500 with 1 Axes>"
      ]
     },
     "metadata": {},
     "output_type": "display_data"
    }
   ],
   "source": [
    "TP = 219\n",
    "TN = 1441\n",
    "FP = 16\n",
    "FN = 15\n",
    "\n",
    "labels = ['True Negative', 'False Positive', 'False Negative', 'True Positive']\n",
    "counts = [TN, FP, FN, TP]\n",
    "\n",
    "plt.figure(figsize=(8,5))\n",
    "plt.bar(labels, counts, color=['lightgreen', 'pink', 'pink', 'lightgreen'])\n",
    "plt.title('Confusion Matrix Components')\n",
    "plt.ylabel('Count')\n",
    "plt.show()"
   ]
  },
  {
   "cell_type": "code",
   "execution_count": 13,
   "id": "5b45f2ab-f1e3-4572-be67-8a7c6933246e",
   "metadata": {},
   "outputs": [
    {
     "data": {
      "text/plain": [
       "['label_encoder.pkl']"
      ]
     },
     "execution_count": 13,
     "metadata": {},
     "output_type": "execute_result"
    }
   ],
   "source": [
    "# Load dataset\n",
    "url_df = pd.read_csv('malicious_phish.csv')\n",
    "\n",
    "# Group 'phishing' and 'defacement' as 'scam', 'benign' as 'benign'\n",
    "url_df['label_grouped'] = url_df['type'].replace({'phishing': 'scam', 'defacement': 'scam', 'benign': 'benign'})\n",
    "\n",
    "# Encode labels using LabelEncoder\n",
    "le = LabelEncoder()\n",
    "url_df['label_encoded'] = le.fit_transform(url_df['label_grouped'])\n",
    "\n",
    "# Features and target\n",
    "X = url_df['url']\n",
    "y = url_df['label_encoded']\n",
    "\n",
    "# Split the data\n",
    "X_train, X_test, y_train, y_test = train_test_split(X, y, test_size=0.3, random_state=42)\n",
    "\n",
    "# Pipeline with TF-IDF vectorizer (limit features) + LinearSVC (faster than SVC)\n",
    "url_pipeline = Pipeline([\n",
    "    ('tfidf', TfidfVectorizer(max_features=5000, ngram_range=(1,2))),\n",
    "    ('clf', LinearSVC())\n",
    "])\n",
    "\n",
    "# Train the model\n",
    "url_pipeline.fit(X_train, y_train)\n",
    "\n",
    "# Save the pipeline and the label encoder\n",
    "joblib.dump(url_pipeline, \"svm_url_pipeline.pkl\")\n",
    "joblib.dump(le, \"label_encoder.pkl\")\n"
   ]
  },
  {
   "cell_type": "code",
   "execution_count": 14,
   "id": "a92d6255-ec0f-42ca-a579-fed37cbb405c",
   "metadata": {},
   "outputs": [],
   "source": [
    "url_pipeline = joblib.load(\"svm_url_pipeline.pkl\")\n",
    "message_pipeline = joblib.load(\"svm_message_pipeline.pkl\")\n",
    "phishing_targets = pd.read_csv(\"phishing_targets.csv\")['label'].str.lower().tolist()\n",
    "\n",
    "def is_brand_impersonation(url, label, threshold=80):\n",
    "    url_lower = url.lower()\n",
    "    for brand in brands:\n",
    "        score = fuzz.partial_ratio(label, url_lower)\n",
    "        if score >= threshold:\n",
    "            return True\n",
    "    return False\n",
    "\n",
    "def detect_scam(message):\n",
    "    url_pattern = r'https?://\\S+|www\\.\\S+'\n",
    "    urls = re.findall(url_pattern, message)\n",
    "    \n",
    "    if urls:\n",
    "        for url in urls:\n",
    "            if is_brand_impersonation(url, phishing_targets):\n",
    "                return \"Scam (Brand Impersonation)\"\n",
    "            \n",
    "            pred = url_pipeline.predict([url])[0]\n",
    "            if pred == 1:\n",
    "                return \"Scam (Malicious URL)\"\n",
    "        \n",
    "        return \"Not Scam\"\n",
    "    else:\n",
    "        pred = message_pipeline.predict([message])[0]\n",
    "        return \"Scam (Text Classifier)\" if pred == 1 else \"Not Scam\""
   ]
  },
  {
   "cell_type": "code",
   "execution_count": 15,
   "id": "08852261-2e37-4770-81b6-51d2d4de6865",
   "metadata": {},
   "outputs": [
    {
     "name": "stdout",
     "output_type": "stream",
     "text": [
      "Accuracy: 0.9370\n",
      "[[126207     68   2458]\n",
      " [   351   8809    539]\n",
      " [  8781    109  48036]]\n"
     ]
    },
    {
     "data": {
      "image/png": "[encoded data removed]",
      "text/plain": [
       "<Figure size 640x480 with 2 Axes>"
      ]
     },
     "metadata": {},
     "output_type": "display_data"
    }
   ],
   "source": [
    "y_test_pred = url_pipeline.predict(X_test)\n",
    "accuracy = accuracy_score(y_test, y_test_pred)\n",
    "print(f\"Accuracy: {accuracy:.4f}\")\n",
    "\n",
    "# Confusion Matrix\n",
    "conf_matrix = confusion_matrix(y_test, y_test_pred)\n",
    "labels = l.classes_ \n",
    "print(conf_matrix)\n",
    "sns.heatmap(conf_matrix, annot=True, fmt='d', cmap='Blues', xticklabels=labels, yticklabels=labels)\n",
    "plt.xlabel('Predicted')\n",
    "plt.ylabel('Actual')\n",
    "plt.title('Confusion Matrix')\n",
    "plt.show()"
   ]
  },
  {
   "cell_type": "code",
   "execution_count": 16,
   "id": "e42b13c9-cfd3-4ec5-b248-6ce4baf08dfe",
   "metadata": {},
   "outputs": [
    {
     "name": "stdout",
     "output_type": "stream",
     "text": [
      "Original types: ['phishing' 'benign' 'defacement' 'malware']\n",
      "After grouping: ['scam' 'benign' 'malware']\n"
     ]
    }
   ],
   "source": [
    "print(\"Original types:\", url_df['type'].unique())\n",
    "print(\"After grouping:\", url_df['label_grouped'].unique())\n"
   ]
  },
  {
   "cell_type": "code",
   "execution_count": 17,
   "id": "ee3955b2-7ace-44c3-b430-42a57d12be39",
   "metadata": {},
   "outputs": [
    {
     "name": "stdout",
     "output_type": "stream",
     "text": [
      "Checking brand 'paypal' against URL -> Score: 100.0\n",
      "True\n"
     ]
    }
   ],
   "source": [
    "url2 = \"paypal-support-login.com\"\n",
    "phishing_targets2 = ['paypal', 'amazon', 'google', 'microsoft']\n",
    "\n",
    "def is_brand_impersonation(url, brands, threshold=80):\n",
    "    url_lower = url.lower()\n",
    "    for brand in brands:\n",
    "        score = fuzz.partial_ratio(brand, url_lower)\n",
    "        print(f\"Checking brand '{brand}' against URL -> Score: {score}\")\n",
    "        if score >= threshold:\n",
    "            return True\n",
    "    return False\n",
    "\n",
    "print(is_brand_impersonation(url2, phishing_targets2))"
   ]
  },
  {
   "cell_type": "code",
   "execution_count": null,
   "id": "19dac2a7-4568-488b-8950-2aee541e0b43",
   "metadata": {},
   "outputs": [],
   "source": []
  }
 ],
 "metadata": {
  "kernelspec": {
   "display_name": "Python 3 (ipykernel)",
   "language": "python",
   "name": "python3"
  },
  "language_info": {
   "codemirror_mode": {
    "name": "ipython",
    "version": 3
   },
   "file_extension": ".py",
   "mimetype": "text/x-python",
   "name": "python",
   "nbconvert_exporter": "python",
   "pygments_lexer": "ipython3",
   "version": "3.10.16"
  }
 },
 "nbformat": 4,
 "nbformat_minor": 5
}
